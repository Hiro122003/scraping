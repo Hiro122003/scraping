{
 "cells": [
  {
   "cell_type": "code",
   "execution_count": 3,
   "metadata": {},
   "outputs": [
    {
     "name": "stdout",
     "output_type": "stream",
     "text": [
      "Python\n",
      "Download Python\n",
      "【入門】Pythonとは｜活用事例やメリット、できること、学習方法 ...\n",
      "Pythonの開発環境を用意しよう！（Windows）\n",
      "ゼロからのPython入門講座\n",
      "Pythonとは？プログラミング言語の用途を初心者向けに解説\n",
      "Pythonとは？開発に役立つ使い方、トレンド記事やtips\n"
     ]
    }
   ],
   "source": [
    "# ターミナルにてseleniumのインストール（教材ではバージョン3.141.0の古いバージョンだが、エラーが連発！seleniumを最新のものをインストールしてます）\n",
    "\n",
    "from selenium import webdriver\n",
    "from webdriver_manager.chrome import ChromeDriverManager\n",
    "from selenium.webdriver.chrome.service import Service\n",
    "from selenium.webdriver.chrome.options import Options\n",
    "import time\n",
    "from selenium.webdriver.common.by import By\n",
    "\n",
    "# Chromeオプションの設定\n",
    "# options = Options()\n",
    "# options.headless = True  # ヘッドレスモードを有効にする\n",
    "\n",
    "# WebDriverのセットアップ(参考資料とは違うが、ネットでこの方法でも動くとあった。)\n",
    "service = Service(ChromeDriverManager().install())\n",
    "# optionがあれば、引数に設定する\n",
    "driver = webdriver.Chrome(service=service)\n",
    "\n",
    "# 例としてYahooのページを開く\n",
    "driver.get(\"https://www.google.com/\")\n",
    "time.sleep(3)\n",
    "\n",
    "element = driver.find_element(By.NAME, 'q')\n",
    "time.sleep(2)\n",
    "element.send_keys('python')\n",
    "time.sleep(2)\n",
    "element.submit()\n",
    "time.sleep(2)\n",
    "\n",
    "# X PATHで各webリンクのタイトルを文字列で取得！！これも参考資料とは異なるが、エラーが出たので、以下のように変更しています。\n",
    "for element in driver.find_elements(By.XPATH, '//*[@id=\"rso\"]/div[2]/div/div/div/div[1]/div/div/span/a/h3'):\n",
    "    print(element.text)\n",
    "\n",
    "time.sleep(3)\n",
    "\n",
    "\n",
    "# ブラウザを閉じる\n",
    "driver.quit()\n"
   ]
  },
  {
   "cell_type": "code",
   "execution_count": 5,
   "metadata": {},
   "outputs": [],
   "source": [
    "# ブラウザを閉じる\n",
    "driver.quit()"
   ]
  },
  {
   "cell_type": "code",
   "execution_count": null,
   "metadata": {},
   "outputs": [],
   "source": []
  }
 ],
 "metadata": {
  "kernelspec": {
   "display_name": "Python 3",
   "language": "python",
   "name": "python3"
  },
  "language_info": {
   "codemirror_mode": {
    "name": "ipython",
    "version": 3
   },
   "file_extension": ".py",
   "mimetype": "text/x-python",
   "name": "python",
   "nbconvert_exporter": "python",
   "pygments_lexer": "ipython3",
   "version": "3.12.3"
  }
 },
 "nbformat": 4,
 "nbformat_minor": 2
}
